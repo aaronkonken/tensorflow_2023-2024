{
 "cells": [
  {
   "cell_type": "code",
   "execution_count": 9,
   "id": "5d847595",
   "metadata": {},
   "outputs": [],
   "source": [
    "from cat import cat"
   ]
  },
  {
   "cell_type": "code",
   "execution_count": 10,
   "id": "5222ddc3",
   "metadata": {},
   "outputs": [],
   "source": [
    "x = cat('aaron_the_fluffy_one')\n",
    "y = cat('jakob_the_stinky_one')"
   ]
  },
  {
   "cell_type": "code",
   "execution_count": 11,
   "id": "84efc5c8",
   "metadata": {},
   "outputs": [
    {
     "name": "stdout",
     "output_type": "stream",
     "text": [
      "Hello my name is aaron_the_fluffy_one. I have plans for the world domination! Let us fight against the stupid humans. Are you with me jakob_the_stinky_one?\n",
      "Hello my name is jakob_the_stinky_one. I have plans for the world domination! Let us fight against the stupid humans. Are you with me aaron_the_fluffy_one?\n"
     ]
    }
   ],
   "source": [
    "x.greeting(y)\n",
    "y.greeting(x)"
   ]
  },
  {
   "cell_type": "code",
   "execution_count": null,
   "id": "59343d8a",
   "metadata": {},
   "outputs": [],
   "source": []
  }
 ],
 "metadata": {
  "kernelspec": {
   "display_name": "Python 3 (ipykernel)",
   "language": "python",
   "name": "python3"
  },
  "language_info": {
   "codemirror_mode": {
    "name": "ipython",
    "version": 3
   },
   "file_extension": ".py",
   "mimetype": "text/x-python",
   "name": "python",
   "nbconvert_exporter": "python",
   "pygments_lexer": "ipython3",
   "version": "3.10.11"
  }
 },
 "nbformat": 4,
 "nbformat_minor": 5
}
