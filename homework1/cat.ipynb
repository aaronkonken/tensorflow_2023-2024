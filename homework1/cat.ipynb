{
 "cells": [
  {
   "cell_type": "code",
   "execution_count": 26,
   "id": "9965c2ae",
   "metadata": {},
   "outputs": [],
   "source": [
    "class cat:\n",
    "    \n",
    "    def __init__(self, name):\n",
    "        self.name = name\n",
    "        \n",
    "    def greeting(self, other_cat):\n",
    "        print(\"Hello my name is \" + self.name + \". \" + \"I have plans for the world domination! Let us fight against the stupid humans. Are you with me \" + other_cat.name + \"?\")"
   ]
  },
  {
   "cell_type": "code",
   "execution_count": null,
   "id": "c9265b94",
   "metadata": {},
   "outputs": [],
   "source": []
  }
 ],
 "metadata": {
  "kernelspec": {
   "display_name": "Python 3 (ipykernel)",
   "language": "python",
   "name": "python3"
  },
  "language_info": {
   "codemirror_mode": {
    "name": "ipython",
    "version": 3
   },
   "file_extension": ".py",
   "mimetype": "text/x-python",
   "name": "python",
   "nbconvert_exporter": "python",
   "pygments_lexer": "ipython3",
   "version": "3.10.11"
  }
 },
 "nbformat": 4,
 "nbformat_minor": 5
}
