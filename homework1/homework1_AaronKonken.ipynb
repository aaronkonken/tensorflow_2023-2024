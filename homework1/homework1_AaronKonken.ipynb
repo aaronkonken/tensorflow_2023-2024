{
 "cells": [
  {
   "cell_type": "code",
   "execution_count": 1,
   "id": "68dc96e9",
   "metadata": {},
   "outputs": [],
   "source": [
    "import numpy as np"
   ]
  },
  {
   "cell_type": "markdown",
   "id": "06b1f7f6",
   "metadata": {},
   "source": [
    "**List Comprehension**"
   ]
  },
  {
   "cell_type": "code",
   "execution_count": 7,
   "id": "1995ad08",
   "metadata": {},
   "outputs": [
    {
     "name": "stdout",
     "output_type": "stream",
     "text": [
      "[0, 1, 4, 9, 16, 25, 36, 49, 64, 81, 100, 121, 144, 169, 196, 225, 256, 289, 324, 361, 400, 441, 484, 529, 576, 625, 676, 729, 784, 841, 900, 961, 1024, 1089, 1156, 1225, 1296, 1369, 1444, 1521, 1600, 1681, 1764, 1849, 1936, 2025, 2116, 2209, 2304, 2401, 2500, 2601, 2704, 2809, 2916, 3025, 3136, 3249, 3364, 3481, 3600, 3721, 3844, 3969, 4096, 4225, 4356, 4489, 4624, 4761, 4900, 5041, 5184, 5329, 5476, 5625, 5776, 5929, 6084, 6241, 6400, 6561, 6724, 6889, 7056, 7225, 7396, 7569, 7744, 7921, 8100, 8281, 8464, 8649, 8836, 9025, 9216, 9409, 9604, 9801, 10000]\n"
     ]
    }
   ],
   "source": [
    "#number of squares\n",
    "square_list = [x * x for x in range(101)]\n",
    "print(square_list)"
   ]
  },
  {
   "cell_type": "code",
   "execution_count": 10,
   "id": "49b5f401",
   "metadata": {},
   "outputs": [
    {
     "name": "stdout",
     "output_type": "stream",
     "text": [
      "[0, 4, 16, 36, 64, 100, 144, 196, 256, 324, 400, 484, 576, 676, 784, 900, 1024, 1156, 1296, 1444, 1600, 1764, 1936, 2116, 2304, 2500, 2704, 2916, 3136, 3364, 3600, 3844, 4096, 4356, 4624, 4900, 5184, 5476, 5776, 6084, 6400, 6724, 7056, 7396, 7744, 8100, 8464, 8836, 9216, 9604, 10000]\n"
     ]
    }
   ],
   "source": [
    "#number of squares only even numbers\n",
    "square_list_even = [x * x for x in range(101) if (x*x) % 2 == 0]\n",
    "print(square_list_even)"
   ]
  },
  {
   "cell_type": "markdown",
   "id": "c80bab2a",
   "metadata": {},
   "source": [
    "**Generators**"
   ]
  },
  {
   "cell_type": "code",
   "execution_count": 52,
   "id": "d679e347",
   "metadata": {},
   "outputs": [],
   "source": [
    "def infinite_sequence():\n",
    "    num = 1\n",
    "    while True:\n",
    "        string_meow = ''\n",
    "        for i in range(num):\n",
    "            string_meow = string_meow + 'meow '\n",
    "        yield string_meow\n",
    "        num = num * 2"
   ]
  },
  {
   "cell_type": "code",
   "execution_count": 56,
   "id": "f4c95204",
   "metadata": {},
   "outputs": [
    {
     "name": "stdout",
     "output_type": "stream",
     "text": [
      "meow \n",
      "meow meow \n",
      "meow meow meow meow \n",
      "meow meow meow meow meow meow meow meow \n"
     ]
    }
   ],
   "source": [
    "gen = infinite_sequence()\n",
    "for _ in range(4):\n",
    "    print(next(gen))"
   ]
  },
  {
   "cell_type": "markdown",
   "id": "3478535f",
   "metadata": {},
   "source": [
    "**NumPy**"
   ]
  },
  {
   "cell_type": "code",
   "execution_count": 59,
   "id": "8fec0dec",
   "metadata": {},
   "outputs": [],
   "source": [
    "#Array erstellen\n",
    "A = np.random.normal(0, 1, (5, 5))"
   ]
  },
  {
   "cell_type": "code",
   "execution_count": 60,
   "id": "859981db",
   "metadata": {},
   "outputs": [
    {
     "data": {
      "text/plain": [
       "array([[-0.30344183, -0.16259232,  0.12510029, -0.76368803, -1.08911498],\n",
       "       [ 0.5007993 ,  0.78245335,  0.28113305,  2.19193431, -2.41230333],\n",
       "       [-0.37827632, -2.17999738, -0.61243062, -0.80512409,  1.15387799],\n",
       "       [ 0.71719078,  1.36671521, -2.72113699, -1.69994855, -0.72299871],\n",
       "       [ 1.13094164,  0.43204095,  0.67688386,  0.35871771, -0.12241981]])"
      ]
     },
     "execution_count": 60,
     "metadata": {},
     "output_type": "execute_result"
    }
   ],
   "source": [
    "A"
   ]
  },
  {
   "cell_type": "code",
   "execution_count": 61,
   "id": "46fb850e",
   "metadata": {},
   "outputs": [],
   "source": [
    "#replace elements\n",
    "A[A > 0.09] = A[A > 0.09] ** 2 \n",
    "A[A <= 0.09] = 42"
   ]
  },
  {
   "cell_type": "code",
   "execution_count": 62,
   "id": "9132a181",
   "metadata": {},
   "outputs": [
    {
     "data": {
      "text/plain": [
       "array([[42.        , 42.        , 42.        , 42.        , 42.        ],\n",
       "       [ 0.25079994,  0.61223324, 42.        ,  4.80457602, 42.        ],\n",
       "       [42.        , 42.        , 42.        , 42.        ,  1.33143442],\n",
       "       [ 0.51436262,  1.86791046, 42.        , 42.        , 42.        ],\n",
       "       [ 1.27902899,  0.18665938,  0.45817176,  0.12867839, 42.        ]])"
      ]
     },
     "execution_count": 62,
     "metadata": {},
     "output_type": "execute_result"
    }
   ],
   "source": [
    "A"
   ]
  },
  {
   "cell_type": "code",
   "execution_count": 67,
   "id": "ec726f92",
   "metadata": {},
   "outputs": [
    {
     "name": "stdout",
     "output_type": "stream",
     "text": [
      "[42.          4.80457602 42.         42.          0.12867839]\n"
     ]
    }
   ],
   "source": [
    "#print by slicing\n",
    "print(A[0:5, 3])"
   ]
  },
  {
   "cell_type": "code",
   "execution_count": null,
   "id": "5957f4fd",
   "metadata": {},
   "outputs": [],
   "source": []
  }
 ],
 "metadata": {
  "kernelspec": {
   "display_name": "Python 3 (ipykernel)",
   "language": "python",
   "name": "python3"
  },
  "language_info": {
   "codemirror_mode": {
    "name": "ipython",
    "version": 3
   },
   "file_extension": ".py",
   "mimetype": "text/x-python",
   "name": "python",
   "nbconvert_exporter": "python",
   "pygments_lexer": "ipython3",
   "version": "3.10.13"
  }
 },
 "nbformat": 4,
 "nbformat_minor": 5
}
